{
 "cells": [
  {
   "cell_type": "markdown",
   "id": "68edd757",
   "metadata": {},
   "source": [
    "# Autogen Demo\n",
    "## LLM setup"
   ]
  },
  {
   "cell_type": "code",
   "execution_count": null,
   "id": "22d577ab",
   "metadata": {},
   "outputs": [],
   "source": [
    "import os, requests, autogen\n",
    "from dotenv import load_dotenv\n",
    "\n",
    "load_dotenv()\n",
    "\n",
    "gpt_config =   {\n",
    "    \"model\": \"gpt-4\",\n",
    "    \"api_key\": os.getenv('OPENAI_API_KEY'),\n",
    "    \"tags\": [\"gpt-4\", \"tool\"]\n",
    "}\n",
    "\n",
    "gemma_config = {\n",
    "    \"model\": \"gemma-2-2b-it\",\n",
    "    \"price\": 0,\n",
    "    \"base_url\": \"http://localhost:1337/v1\"\n",
    "}"
   ]
  },
  {
   "cell_type": "markdown",
   "id": "35c66ad4",
   "metadata": {},
   "source": [
    "## Agent definitions"
   ]
  },
  {
   "cell_type": "code",
   "execution_count": null,
   "id": "e46cf6cc",
   "metadata": {},
   "outputs": [],
   "source": [
    "cathy = autogen.ConversableAgent(\n",
    "    name=\"cathy\",\n",
    "    system_message=\n",
    "    \"Your name is Cathy and you are a stand-up comedian. \"\n",
    "    \"You make your first joke on cats by using the registered tool to get a fact on cat and make a joke on top of this.\",\n",
    "    llm_config=gpt_config,\n",
    "    human_input_mode=\"NEVER\",\n",
    ")\n",
    "\n",
    "joe = autogen.ConversableAgent(\n",
    "    name=\"joe\",\n",
    "    system_message=\n",
    "    \"Your name is Joe and you are a stand-up comedian. \"\n",
    "    \"Start the next joke from the punchline of the previous joke.\",\n",
    "    llm_config=gemma_config,\n",
    "    human_input_mode=\"NEVER\",\n",
    ")"
   ]
  },
  {
   "cell_type": "markdown",
   "id": "b80aa771",
   "metadata": {},
   "source": [
    "## Tool definition and registration"
   ]
  },
  {
   "cell_type": "code",
   "execution_count": null,
   "id": "84ba182b",
   "metadata": {},
   "outputs": [],
   "source": [
    "def get_cat_fact() -> str:\n",
    "    \"\"\"\n",
    "    Get an interesting fact on cats by calling the meowfacts external API\n",
    "\n",
    "    \"\"\"\n",
    "    url = \"https://meowfacts.herokuapp.com\"\n",
    "    headers = {\"Accept\": \"application/json\"}\n",
    "\n",
    "    response = requests.get(url, headers=headers)\n",
    "    if response.status_code == 200:\n",
    "        data = response.json()\n",
    "        return data\n",
    "    else:\n",
    "        return f\"Failed to fetch fact, status code: {response.status_code}\"\n",
    "\n",
    "autogen.agentchat.register_function(\n",
    "    get_cat_fact,\n",
    "    caller=cathy,\n",
    "    executor=joe,\n",
    "    description=\"Get an interesting fact on cats by calling the meowfacts external API\",\n",
    ")"
   ]
  },
  {
   "cell_type": "markdown",
   "id": "71d4f5ec",
   "metadata": {},
   "source": [
    "## Conversation between agents"
   ]
  },
  {
   "cell_type": "code",
   "execution_count": 10,
   "id": "e6d8c906",
   "metadata": {},
   "outputs": [
    {
     "name": "stdout",
     "output_type": "stream",
     "text": [
      "\u001b[33mjoe\u001b[0m (to cathy):\n",
      "\n",
      "I'm Joe. Cathy, let's keep the jokes rolling.\n",
      "\n",
      "--------------------------------------------------------------------------------\n",
      "\u001b[33mcathy\u001b[0m (to joe):\n",
      "\n",
      "Sure thing, Joe! Let's liven things up with a little feline humor, shall we? Let me call upon my trusty cat facts tool to get us started...\n",
      "\u001b[32m***** Suggested tool call (call_SsWaR9cXAMF3GJnZZWo9lFjZ): get_cat_fact *****\u001b[0m\n",
      "Arguments: \n",
      "{}\n",
      "\u001b[32m*****************************************************************************\u001b[0m\n",
      "\n",
      "--------------------------------------------------------------------------------\n",
      "\u001b[35m\n",
      ">>>>>>>> EXECUTING FUNCTION get_cat_fact...\u001b[0m\n",
      "\u001b[33mjoe\u001b[0m (to cathy):\n",
      "\n",
      "\u001b[33mjoe\u001b[0m (to cathy):\n",
      "\n",
      "\u001b[32m***** Response from calling tool (call_SsWaR9cXAMF3GJnZZWo9lFjZ) *****\u001b[0m\n",
      "{\"data\": [\"Like birds, cats have a homing ability that uses its biological clock, the angle of the sun, and the Earth's magnetic field. A cat taken far from its home can return to it. But if a cat's owners move far from its home, the cat can't find them.\"]}\n",
      "\u001b[32m**********************************************************************\u001b[0m\n",
      "\n",
      "--------------------------------------------------------------------------------\n",
      "\u001b[33mcathy\u001b[0m (to joe):\n",
      "\n",
      "Alright, so here's a fun fact: Like birds, cats have this incredible homing ability that uses their biological clock, the angle of the sun, and even the Earth's magnetic field. A cat taken far from its home can somehow find its way back. But if its owners move far from its home, the cat can't find them.\n",
      "\n",
      "Now here's the joke: I suppose it's safe to say that cats might not be the most loyal pets. They'll always find their way back home, unless their 'home' decides to move somewhere else... then they're like, \"Who are you again?\" \n",
      "\n",
      "I just hope my boyfriend doesn't have a cat's homing ability, otherwise he'd still be hanging around his ex's place!\n",
      "\n",
      "--------------------------------------------------------------------------------\n",
      "[autogen.oai.client: 11-02 12:03:02] {706} WARNING - Input price is a float/int. Using the same price for prompt and completion tokens. Use a list/tuple if prompt and completion token prices are different.\n",
      "\u001b[33mjoe\u001b[0m (to cathy):\n",
      "\n",
      "That's a great one, Joe!  You've got a real knack for those cat puns. \n",
      "\n",
      "*audience applauds*  \n",
      "\n",
      "Alright, let's keep the laughter flowing. Joe, tell us, what's the deal with dating? \n",
      "\n",
      "\n",
      "<end_of_turn>\n",
      "\n",
      "--------------------------------------------------------------------------------\n",
      "\u001b[33mcathy\u001b[0m (to joe):\n",
      "\n",
      "Oh man, dating! Where do I even start? See, dating is like being a cat trying to find home. Sometimes you think you've found it, but then they move without telling you, and you're just standing there like, \"Umm...wasn't there a house here yesterday?\" \n",
      "\n",
      "*audience laughs* \n",
      "\n",
      "At least cats have that crazy homing ability, right? If humans had that, we might actually stand a chance at keeping track of our love lives!\n",
      "\n",
      "*audience roars with laughter*\n",
      "\n",
      "--------------------------------------------------------------------------------\n"
     ]
    }
   ],
   "source": [
    "chat_result = joe.initiate_chat(\n",
    "    recipient=cathy, \n",
    "    message=\"I'm Joe. Cathy, let's keep the jokes rolling.\",\n",
    "    max_turns=3,\n",
    ")"
   ]
  },
  {
   "cell_type": "code",
   "execution_count": null,
   "id": "eaf38707",
   "metadata": {},
   "outputs": [],
   "source": []
  }
 ],
 "metadata": {
  "celltoolbar": "Raw Cell Format",
  "kernelspec": {
   "display_name": "Python 3 (ipykernel)",
   "language": "python",
   "name": "python3"
  },
  "language_info": {
   "codemirror_mode": {
    "name": "ipython",
    "version": 3
   },
   "file_extension": ".py",
   "mimetype": "text/x-python",
   "name": "python",
   "nbconvert_exporter": "python",
   "pygments_lexer": "ipython3",
   "version": "3.12.3"
  }
 },
 "nbformat": 4,
 "nbformat_minor": 5
}
