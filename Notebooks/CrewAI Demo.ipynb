{
 "cells": [
  {
   "attachments": {
    "image.png": {
     "image/png": "[encoded data removed]"
    }
   },
   "cell_type": "markdown",
   "id": "16f6d62d",
   "metadata": {},
   "source": [
    "# CrewAI Demo\n",
    "![image.png](attachment:image.png)\n",
    "## Setup"
   ]
  },
  {
   "cell_type": "code",
   "execution_count": 11,
   "id": "5593025d",
   "metadata": {},
   "outputs": [],
   "source": [
    "from crewai import Agent, Task, Crew\n",
    "import os\n",
    "from dotenv import load_dotenv\n",
    "from langchain_openai import ChatOpenAI\n",
    "\n",
    "load_dotenv()\n",
    "\n",
    "os.environ[\"OTEL_SDK_DISABLED\"] = \"true\"\n",
    "\n",
    "default_llm = ChatOpenAI(model_name=\"gpt-4\", api_key=os.getenv('OPENAI_API_KEY'))"
   ]
  },
  {
   "cell_type": "markdown",
   "id": "2d18c239",
   "metadata": {},
   "source": [
    "## Agent definitions"
   ]
  },
  {
   "cell_type": "code",
   "execution_count": 12,
   "id": "29b3d38e",
   "metadata": {},
   "outputs": [],
   "source": [
    "# Agent 1: Venue Coordinator\n",
    "venue_coordinator = Agent(\n",
    "    role=\"Venue Coordinator\",\n",
    "    goal=\"Identify the an appropriate country, city, date and duration based on event requirements\",\n",
    "    #verbose=True,\n",
    "    llm=default_llm,\n",
    "    backstory=(\n",
    "        \"With a keen sense of space and understanding of event logistics, \"\n",
    "        \"you excel at finding and securing the perfect location (country, city), date and duration \"\n",
    "        \"that fits the event's theme, and size constraints.\"\n",
    "    )\n",
    ")\n",
    "\n",
    "# Agent 2: Editorial Curator\n",
    "editorial_curator = Agent(\n",
    "    role='Editorial Curator',\n",
    "    goal=(\n",
    "        \"Decide the content of the event \"\n",
    "        \"including conferences and animations\"\n",
    "    ),\n",
    "    #verbose=True,\n",
    "    llm=default_llm,\n",
    "    backstory=(\n",
    "        \"A curious mind fascinated by cutting-edge innovation, you know everything about tech.\"\n",
    "    )\n",
    ") \n",
    "\n",
    "# Agent 3: Marketing and Communications Agent\n",
    "marketing_communications_agent = Agent(\n",
    "    role=\"Marketing and Communications Agent\",\n",
    "    goal=\"Effectively market the event and communicate with participants\",\n",
    "    #verbose=True,\n",
    "    llm=default_llm,\n",
    "    backstory=(\n",
    "        \"Creative and communicative, you craft compelling messages and \"\n",
    "        \"engage with potential attendees to maximize event exposure and participation.\"\n",
    "    )\n",
    ")"
   ]
  },
  {
   "cell_type": "markdown",
   "id": "0bd0189e",
   "metadata": {},
   "source": [
    "## Task definitions"
   ]
  },
  {
   "cell_type": "code",
   "execution_count": 13,
   "id": "4607fa5f",
   "metadata": {},
   "outputs": [],
   "source": [
    "# Tasks for conference organization\n",
    "venue_task = Task(\n",
    "  description='Determine the best location for an international IT conference based in Africa',\n",
    "  agent=venue_coordinator,\n",
    "  expected_output='The country, the city and the best period to organize the event'\n",
    ")\n",
    "\n",
    "content_task = Task(\n",
    "  description='Determine the global theme of the event, its tracks and main speakers',\n",
    "  agent=editorial_curator,\n",
    "  expected_output='A global theme for the event and a proposed agenda of conferences'\n",
    ")\n",
    "\n",
    "communication_task = Task(\n",
    "  description='Determine the marketing and communication on the event to make it appealing and engaging',\n",
    "  agent=marketing_communications_agent,\n",
    "  expected_output='Marketing and communication plan including the event name, catchphrase and messaging'\n",
    ")"
   ]
  },
  {
   "cell_type": "markdown",
   "id": "e9a805c1",
   "metadata": {},
   "source": [
    "## Crew definition"
   ]
  },
  {
   "cell_type": "code",
   "execution_count": 14,
   "id": "c8753746",
   "metadata": {},
   "outputs": [
    {
     "name": "stderr",
     "output_type": "stream",
     "text": [
      "2024-11-03 12:26:07,947 - 139943073456256 - __init__.py-__init__:538 - WARNING: Overriding of current TracerProvider is not allowed\n"
     ]
    }
   ],
   "source": [
    "# Instantiate the crew\n",
    "event_crew = Crew(\n",
    "  agents=[venue_coordinator, editorial_curator, marketing_communications_agent],\n",
    "  tasks=[venue_task, content_task,communication_task ],\n",
    "  verbose=True\n",
    ")"
   ]
  },
  {
   "cell_type": "markdown",
   "id": "966886fd",
   "metadata": {},
   "source": [
    "## Execution"
   ]
  },
  {
   "cell_type": "code",
   "execution_count": 15,
   "id": "edef6495",
   "metadata": {},
   "outputs": [
    {
     "name": "stderr",
     "output_type": "stream",
     "text": [
      "2024-11-03 12:26:15,074 - 139943073456256 - __init__.py-__init__:1236 - WARNING: SDK is disabled.\n",
      "2024-11-03 12:26:15,080 - 139943073456256 - __init__.py-__init__:1236 - WARNING: SDK is disabled.\n"
     ]
    },
    {
     "name": "stdout",
     "output_type": "stream",
     "text": [
      "\u001b[1m\u001b[95m# Agent:\u001b[00m \u001b[1m\u001b[92mVenue Coordinator\u001b[00m\n",
      "\u001b[95m## Task:\u001b[00m \u001b[92mDetermine the best location for an international IT conference based in Africa\u001b[00m\n"
     ]
    },
    {
     "name": "stderr",
     "output_type": "stream",
     "text": [
      "2024-11-03 12:26:20,227 - 139943073456256 - __init__.py-__init__:1236 - WARNING: SDK is disabled.\n"
     ]
    },
    {
     "name": "stdout",
     "output_type": "stream",
     "text": [
      "\n",
      "\n",
      "\u001b[1m\u001b[95m# Agent:\u001b[00m \u001b[1m\u001b[92mVenue Coordinator\u001b[00m\n",
      "\u001b[95m## Final Answer:\u001b[00m \u001b[92m\n",
      "South Africa, specifically the city of Johannesburg, would be an ideal location. Johannesburg is an economic powerhouse with a thriving tech industry, making it suitable for an international IT conference. As for the best period, considering Johannesburg's climate and the city's event calendar, September would be a good choice. It's the start of spring in South Africa, so the weather is pleasant, and it avoids the peak summer vacation and holiday season. The duration of the event could be five days, from Monday to Friday, mimicking a working week and allowing for a comprehensive conference program.\u001b[00m\n",
      "\n",
      "\n",
      "\u001b[1m\u001b[95m# Agent:\u001b[00m \u001b[1m\u001b[92mEditorial Curator\u001b[00m\n",
      "\u001b[95m## Task:\u001b[00m \u001b[92mDetermine the global theme of the event, its tracks and main speakers\u001b[00m\n"
     ]
    },
    {
     "name": "stderr",
     "output_type": "stream",
     "text": [
      "2024-11-03 12:26:29,823 - 139943073456256 - __init__.py-__init__:1236 - WARNING: SDK is disabled.\n"
     ]
    },
    {
     "name": "stdout",
     "output_type": "stream",
     "text": [
      "\n",
      "\n",
      "\u001b[1m\u001b[95m# Agent:\u001b[00m \u001b[1m\u001b[92mEditorial Curator\u001b[00m\n",
      "\u001b[95m## Final Answer:\u001b[00m \u001b[92m\n",
      "Global Theme: \"Innovative Tech for a Sustainable Future\"\n",
      "\n",
      "Day 1 - Track: The Intersection of Technology and Sustainability\n",
      "Main Speaker: Dr. Jane Goodall, renowned ethologist and environmental advocate, discussing the role of technology in global conservation efforts. \n",
      "\n",
      "Day 2 - Track: Renewable Energy Technologies\n",
      "Main Speaker: Elon Musk, CEO of Tesla and SpaceX, discussing advancements in electric vehicles and solar energy.\n",
      "\n",
      "Day 3 - Track: Smart Cities and Sustainable Urban Development\n",
      "Main Speaker: Patricia de Lille, Mayor of Cape Town, discussing how technology can drive sustainable urban development.\n",
      "\n",
      "Day 4 - Track: Green IT and Sustainable Computing\n",
      "Main Speaker: Lisa Su, CEO of Advanced Micro Devices, discussing the role of the tech industry in promoting sustainability.\n",
      "\n",
      "Day 5 - Track: Tech Innovations in Agriculture\n",
      "Main Speaker: Strive Masiyiwa, founder of Econet Wireless, discussing the role of technology in promoting sustainable farming practices in Africa.\n",
      "\n",
      "This conference will present a comprehensive look at how technology is shaping a more sustainable future, highlighting innovative solutions from industry leaders and providing a platform for meaningful discussion and networking.\u001b[00m\n",
      "\n",
      "\n",
      "\u001b[1m\u001b[95m# Agent:\u001b[00m \u001b[1m\u001b[92mMarketing and Communications Agent\u001b[00m\n",
      "\u001b[95m## Task:\u001b[00m \u001b[92mDetermine the marketing and communication on the event to make it appealing and engaging\u001b[00m\n",
      "\n",
      "\n",
      "\u001b[1m\u001b[95m# Agent:\u001b[00m \u001b[1m\u001b[92mMarketing and Communications Agent\u001b[00m\n",
      "\u001b[95m## Final Answer:\u001b[00m \u001b[92m\n",
      "Event Name: \"TechFuture Summit: Powering Sustainability Through Innovation\"\n",
      "\n",
      "Catchphrase: \"Join us for a transformative journey into the future where technology and sustainability intersect\"\n",
      "\n",
      "Marketing and Communication Plan:\n",
      "\n",
      "1. Messaging:\n",
      "   - \"TechFuture Summit is not just a conference, but a global platform where innovation meets sustainability. Hear from industry leaders like Dr. Jane Goodall, Elon Musk, Patricia de Lille, Lisa Su, and Strive Masiyiwa as they delve into how technology is driving sustainability across various sectors.\"\n",
      "   - \"From green IT to renewable energy technologies, smart cities, and tech innovations in agriculture, TechFuture Summit covers it all. Join us for these five days of insightful discussions, meaningful networking and transformative learning experiences.\"\n",
      "\n",
      "2. Channels:\n",
      "   - Social Media: Promote the event and its speakers on various platforms like LinkedIn, Twitter, Facebook, and Instagram. Use engaging visuals and videos to establish a connection with the audience.\n",
      "   - Email Marketing: Send personalized invitations and regular updates to potential attendees.\n",
      "   - Press Releases: Use media outlets to reach a wider audience and increase event exposure.\n",
      "\n",
      "3. Engagement:\n",
      "   - Pre-event Webinars: Organize webinars with speakers to provide a sneak peek into their sessions. \n",
      "   - Q&A Sessions: Schedule interactive Q&A sessions with speakers to engage attendees.\n",
      "   - Networking Sessions: Promote networking opportunities to connect with industry leaders and like-minded professionals.\n",
      "\n",
      "4. Follow-up:\n",
      "   - Post-event Surveys: Gather feedback from attendees to improve future events.\n",
      "   - Thank You Notes: Send personalized thank you notes to attendees for their participation.\n",
      "\n",
      "Join us at the TechFuture Summit and be a part of the change towards a more sustainable future.\u001b[00m\n",
      "\n",
      "\n"
     ]
    },
    {
     "data": {
      "text/plain": [
       "CrewOutput(raw='Event Name: \"TechFuture Summit: Powering Sustainability Through Innovation\"\\n\\nCatchphrase: \"Join us for a transformative journey into the future where technology and sustainability intersect\"\\n\\nMarketing and Communication Plan:\\n\\n1. Messaging:\\n   - \"TechFuture Summit is not just a conference, but a global platform where innovation meets sustainability. Hear from industry leaders like Dr. Jane Goodall, Elon Musk, Patricia de Lille, Lisa Su, and Strive Masiyiwa as they delve into how technology is driving sustainability across various sectors.\"\\n   - \"From green IT to renewable energy technologies, smart cities, and tech innovations in agriculture, TechFuture Summit covers it all. Join us for these five days of insightful discussions, meaningful networking and transformative learning experiences.\"\\n\\n2. Channels:\\n   - Social Media: Promote the event and its speakers on various platforms like LinkedIn, Twitter, Facebook, and Instagram. Use engaging visuals and videos to establish a connection with the audience.\\n   - Email Marketing: Send personalized invitations and regular updates to potential attendees.\\n   - Press Releases: Use media outlets to reach a wider audience and increase event exposure.\\n\\n3. Engagement:\\n   - Pre-event Webinars: Organize webinars with speakers to provide a sneak peek into their sessions. \\n   - Q&A Sessions: Schedule interactive Q&A sessions with speakers to engage attendees.\\n   - Networking Sessions: Promote networking opportunities to connect with industry leaders and like-minded professionals.\\n\\n4. Follow-up:\\n   - Post-event Surveys: Gather feedback from attendees to improve future events.\\n   - Thank You Notes: Send personalized thank you notes to attendees for their participation.\\n\\nJoin us at the TechFuture Summit and be a part of the change towards a more sustainable future.', pydantic=None, json_dict=None, tasks_output=[TaskOutput(description='Determine the best location for an international IT conference based in Africa', name=None, expected_output='The country, the city and the best period to organize the event', summary='Determine the best location for an international IT conference based...', raw=\"South Africa, specifically the city of Johannesburg, would be an ideal location. Johannesburg is an economic powerhouse with a thriving tech industry, making it suitable for an international IT conference. As for the best period, considering Johannesburg's climate and the city's event calendar, September would be a good choice. It's the start of spring in South Africa, so the weather is pleasant, and it avoids the peak summer vacation and holiday season. The duration of the event could be five days, from Monday to Friday, mimicking a working week and allowing for a comprehensive conference program.\", pydantic=None, json_dict=None, agent='Venue Coordinator', output_format=<OutputFormat.RAW: 'raw'>), TaskOutput(description='Determine the global theme of the event, its tracks and main speakers', name=None, expected_output='A global theme for the event and a proposed agenda of conferences', summary='Determine the global theme of the event, its tracks and...', raw='Global Theme: \"Innovative Tech for a Sustainable Future\"\\n\\nDay 1 - Track: The Intersection of Technology and Sustainability\\nMain Speaker: Dr. Jane Goodall, renowned ethologist and environmental advocate, discussing the role of technology in global conservation efforts. \\n\\nDay 2 - Track: Renewable Energy Technologies\\nMain Speaker: Elon Musk, CEO of Tesla and SpaceX, discussing advancements in electric vehicles and solar energy.\\n\\nDay 3 - Track: Smart Cities and Sustainable Urban Development\\nMain Speaker: Patricia de Lille, Mayor of Cape Town, discussing how technology can drive sustainable urban development.\\n\\nDay 4 - Track: Green IT and Sustainable Computing\\nMain Speaker: Lisa Su, CEO of Advanced Micro Devices, discussing the role of the tech industry in promoting sustainability.\\n\\nDay 5 - Track: Tech Innovations in Agriculture\\nMain Speaker: Strive Masiyiwa, founder of Econet Wireless, discussing the role of technology in promoting sustainable farming practices in Africa.\\n\\nThis conference will present a comprehensive look at how technology is shaping a more sustainable future, highlighting innovative solutions from industry leaders and providing a platform for meaningful discussion and networking.', pydantic=None, json_dict=None, agent='Editorial Curator', output_format=<OutputFormat.RAW: 'raw'>), TaskOutput(description='Determine the marketing and communication on the event to make it appealing and engaging', name=None, expected_output='Marketing and communication plan including the event name, catchphrase and messaging', summary='Determine the marketing and communication on the event to make...', raw='Event Name: \"TechFuture Summit: Powering Sustainability Through Innovation\"\\n\\nCatchphrase: \"Join us for a transformative journey into the future where technology and sustainability intersect\"\\n\\nMarketing and Communication Plan:\\n\\n1. Messaging:\\n   - \"TechFuture Summit is not just a conference, but a global platform where innovation meets sustainability. Hear from industry leaders like Dr. Jane Goodall, Elon Musk, Patricia de Lille, Lisa Su, and Strive Masiyiwa as they delve into how technology is driving sustainability across various sectors.\"\\n   - \"From green IT to renewable energy technologies, smart cities, and tech innovations in agriculture, TechFuture Summit covers it all. Join us for these five days of insightful discussions, meaningful networking and transformative learning experiences.\"\\n\\n2. Channels:\\n   - Social Media: Promote the event and its speakers on various platforms like LinkedIn, Twitter, Facebook, and Instagram. Use engaging visuals and videos to establish a connection with the audience.\\n   - Email Marketing: Send personalized invitations and regular updates to potential attendees.\\n   - Press Releases: Use media outlets to reach a wider audience and increase event exposure.\\n\\n3. Engagement:\\n   - Pre-event Webinars: Organize webinars with speakers to provide a sneak peek into their sessions. \\n   - Q&A Sessions: Schedule interactive Q&A sessions with speakers to engage attendees.\\n   - Networking Sessions: Promote networking opportunities to connect with industry leaders and like-minded professionals.\\n\\n4. Follow-up:\\n   - Post-event Surveys: Gather feedback from attendees to improve future events.\\n   - Thank You Notes: Send personalized thank you notes to attendees for their participation.\\n\\nJoin us at the TechFuture Summit and be a part of the change towards a more sustainable future.', pydantic=None, json_dict=None, agent='Marketing and Communications Agent', output_format=<OutputFormat.RAW: 'raw'>)], token_usage=UsageMetrics(total_tokens=4290, prompt_tokens=2174, completion_tokens=2116, successful_requests=6))"
      ]
     },
     "execution_count": 15,
     "metadata": {},
     "output_type": "execute_result"
    }
   ],
   "source": [
    "# Begin the task execution\n",
    "event_crew.kickoff()"
   ]
  },
  {
   "cell_type": "code",
   "execution_count": null,
   "id": "88bbcd19",
   "metadata": {},
   "outputs": [],
   "source": []
  }
 ],
 "metadata": {
  "kernelspec": {
   "display_name": "crewai",
   "language": "python",
   "name": "crewai"
  },
  "language_info": {
   "codemirror_mode": {
    "name": "ipython",
    "version": 3
   },
   "file_extension": ".py",
   "mimetype": "text/x-python",
   "name": "python",
   "nbconvert_exporter": "python",
   "pygments_lexer": "ipython3",
   "version": "3.12.3"
  }
 },
 "nbformat": 4,
 "nbformat_minor": 5
}
