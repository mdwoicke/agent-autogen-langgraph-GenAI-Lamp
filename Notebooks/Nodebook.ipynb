{
 "cells": [
  {
   "cell_type": "markdown",
   "id": "73986ad3",
   "metadata": {},
   "source": [
    "# Run Node.js in Jupyter Notebook\n",
    "\n",
    "## Associated video"
   ]
  },
  {
   "cell_type": "code",
   "execution_count": 9,
   "id": "400cb5fb",
   "metadata": {},
   "outputs": [
    {
     "data": {
      "text/html": [
       "<iframe width='560' height='315' src='https://www.youtube.com/embed/la928ga1AbQ?si=avSaCW79coAvVBU8'         frameborder='0' allow='accelerometer; clipboard-write; encrypted-media; gyroscope; picture-in-picture; web-share'         allowfullscreen></iframe>"
      ]
     },
     "execution_count": 9,
     "metadata": {},
     "output_type": "execute_result"
    }
   ],
   "source": [
    "$$.html(\"<iframe width='560' height='315' src='https://www.youtube.com/embed/la928ga1AbQ?si=avSaCW79coAvVBU8' \\\n",
    "        frameborder='0' allow='accelerometer; clipboard-write; encrypted-media; gyroscope; picture-in-picture; web-share' \\\n",
    "        allowfullscreen></iframe>\");"
   ]
  },
  {
   "attachments": {
    "Untitled.png": {
     "image/png": "[encoded data removed]"
    }
   },
   "cell_type": "markdown",
   "id": "2e17f813",
   "metadata": {},
   "source": [
    "## Prerequisites\n",
    "\n",
    "### Install Anaconda and Jupyter Notebook\n",
    "\n",
    "The [Jupyter Notebook](https://en.wikipedia.org/wiki/Project_Jupyter) tool enables in-browser code editing and execution, presenting computational outcomes. It implements the concept of computation notebooks. These interactive computational platforms, primarily developed for data science applications, merge code, computational output, explanatory text, and multimedia into one cohesive document.\n",
    "\n",
    "Let's install it on Windows! Jupyter Notebook relies on Python, necessitating a Python distribution for Windows. Let's install [Anaconda](https://www.anaconda.com/) — a comprehensive Python distribution tailored for big data, AI, and machine learning.\n",
    "\n",
    "Post installation, the Anaconda Navigator presents a user-friendly interface. Here’s how to set up Jupyter, Node.js, and IJavascript using a Windows command prompt within an activated Anaconda environment:\n",
    "\n",
    "![Untitled.png](attachment:Untitled.png)\n",
    "\n",
    "\n",
    "```shell\n",
    "conda install -c conda-forge jupyter\n",
    "```\n",
    "\n",
    "After a restart, Jupyter Notebook becomes accessible via the Anaconda Navigator.\n",
    "\n",
    "### Install a Javascript kernel\n",
    "\n",
    "Jupyter comes with a Python kernel by default, so let's install the [IJavascript](https://github.com/n-riesco/ijavascript) kernel to access to the Node.js standard library as well as any installed npm modules.\n",
    "\n",
    "Again, from the *CMD.exe Prompt*:\n",
    "\n",
    "```shell\n",
    "conda install nodejs\n",
    "npm install -g ijavascript\n",
    "ijsinstall\n",
    "```\n",
    "\n",
    "Note that Jupyter supports many more [kernels](https://github.com/jupyter/jupyter/wiki/Jupyter-kernels) including C, C++, C#, Go, Java, Rust, SQL..."
   ]
  },
  {
   "cell_type": "markdown",
   "id": "a99e855d",
   "metadata": {},
   "source": [
    "Because you could run code in a Notebook in any order you want and multiple times, **do not use `let` or `const` in your code**.\n",
    "\n",
    "### Customize the environment\n",
    "\n",
    "Unlike the Python kernel, IJavascript doesn't implement magic commands allowing to easy run shell code directly from Jupyter. The [magicpatch](https://www.npmjs.com/package/magicpatch) proposes to solve this issue but I could'nt make it work on my installation (this is a [known issue](https://github.com/apowers313/magicpatch/issues/102)). \n",
    "\n",
    "For now let's create a `sh` helper function to execute shell commands, according to [this example](https://dev.to/obenjiro/silence-of-the-fans-part-1-javascript-quickstart-5f3m)."
   ]
  },
  {
   "cell_type": "code",
   "execution_count": 10,
   "id": "b10226d1",
   "metadata": {},
   "outputs": [],
   "source": [
    "var { spawn } = require('child_process');\n",
    "var sh = (cmd) => {\n",
    "    $$.async();\n",
    "    var sp = spawn(cmd, { cwd: process.cwd(), stdio: 'pipe', shell: true, encoding: 'utf-8' });\n",
    "    sp.stdout.on('data', data => console.log(data.toString()));\n",
    "    sp.stderr.on('data', data => console.error(data.toString()));\n",
    "    sp.on('close', () => $$.done());\n",
    "};"
   ]
  },
  {
   "cell_type": "markdown",
   "id": "da48a247",
   "metadata": {},
   "source": [
    "We can now install the [esm-hook](https://www.npmjs.com/package/esm-hook) Node.js package to allow the use ESM modules with zero setup. We use the brand new `sh` function."
   ]
  },
  {
   "cell_type": "code",
   "execution_count": 11,
   "id": "04f7a2b7",
   "metadata": {},
   "outputs": [
    {
     "name": "stdout",
     "output_type": "stream",
     "text": [
      "\n",
      "up to date, audited 268 packages in 3s\n",
      "\n",
      "\n",
      "28 packages are looking for funding\n",
      "  run `npm fund` for details\n",
      "\n",
      "\n",
      "5 vulnerabilities (1 low, 4 moderate)\n",
      "\n",
      "To address issues that do not require attention, run:\n",
      "  npm audit fix\n",
      "\n",
      "To address all issues (including breaking changes), run:\n",
      "  npm audit fix --force\n",
      "\n",
      "Run `npm audit` for details.\n",
      "\n"
     ]
    }
   ],
   "source": [
    "sh('npm install esm-hook');\n",
    "require(\"esm-hook\");"
   ]
  },
  {
   "cell_type": "markdown",
   "id": "fce34c62",
   "metadata": {},
   "source": [
    "## API call\n",
    "\n",
    "Let's finish with a simple call to the Completion API of OpenAI.\n",
    "\n",
    "We use the [dotenv](https://www.npmjs.com/package/dotenv) Node.js package to store our API key in a local .env file.\n"
   ]
  },
  {
   "cell_type": "code",
   "execution_count": 12,
   "id": "049d4f50",
   "metadata": {},
   "outputs": [
    {
     "name": "stdout",
     "output_type": "stream",
     "text": [
      "\n",
      "changed 1 package, and audited 268 packages in 1s\n",
      "\n",
      "\n",
      "28 packages are looking for funding\n",
      "\n",
      "  run `npm fund` for details\n",
      "\n",
      "\n",
      "5 vulnerabilities (1 low, 4 moderate)\n",
      "\n",
      "To address issues that do not require attention, run:\n",
      "  npm audit fix\n",
      "\n",
      "To address all issues (including breaking changes), run:\n",
      "  npm audit fix --force\n",
      "\n",
      "Run `npm audit` for details.\n",
      "\n"
     ]
    }
   ],
   "source": [
    "// Get API key from local .env file\n",
    "sh('npm install dotenv');\n",
    "var dotenv = require(\"dotenv\");\n",
    "dotenv.config();"
   ]
  },
  {
   "cell_type": "code",
   "execution_count": 13,
   "id": "152c58d3",
   "metadata": {},
   "outputs": [
    {
     "name": "stdout",
     "output_type": "stream",
     "text": [
      "\n",
      "up to date, audited 268 packages in 1s\n",
      "\n",
      "\n",
      "28 packages are looking for funding\n",
      "  run `npm fund` for details\n",
      "\n",
      "\n",
      "5 vulnerabilities (1 low, 4 moderate)\n",
      "\n",
      "To address issues that do not require attention, run:\n",
      "  npm audit fix\n",
      "\n",
      "To address all issues (including breaking changes), run:\n",
      "  npm audit fix --force\n",
      "\n",
      "Run `npm audit` for details.\n",
      "\n"
     ]
    }
   ],
   "source": [
    "//Install and import OpenAI Node.js library\n",
    "sh('npm install openai');"
   ]
  },
  {
   "cell_type": "code",
   "execution_count": 14,
   "id": "5039b745",
   "metadata": {},
   "outputs": [
    {
     "data": {
      "text/plain": [
       "Promise { <pending> }"
      ]
     },
     "execution_count": 14,
     "metadata": {},
     "output_type": "execute_result"
    },
    {
     "name": "stdout",
     "output_type": "stream",
     "text": [
      "The sky appears blue because of a process called Rayleigh scattering. As sunlight reaches Earth's atmosphere, it is scattered in every direction by the gas molecules in the air. Blue light is scattered more because it travels in smaller, shorter waves. This scattering of blue light is what makes the sky look blue in our perception.\n"
     ]
    }
   ],
   "source": [
    "var { Configuration, OpenAIApi } = require(\"openai\");\n",
    "\n",
    "var configuration = new Configuration({\n",
    "  apiKey: process.env.GPT_KEY,\n",
    "});\n",
    "var openai = new OpenAIApi(configuration);\n",
    "\n",
    "async function runCompletion() {\n",
    "    var completion = await openai.createChatCompletion({\n",
    "        model: \"gpt-4\",\n",
    "        messages: [{ role: 'user', content: 'Why is the sky blue?' }],\n",
    "    });\n",
    "    console.log(completion.data.choices[0].message.content);\n",
    "}\n",
    "\n",
    "runCompletion();"
   ]
  }
 ],
 "metadata": {
  "kernelspec": {
   "display_name": "JavaScript (Node.js)",
   "language": "javascript",
   "name": "javascript"
  },
  "language_info": {
   "file_extension": ".js",
   "mimetype": "application/javascript",
   "name": "javascript",
   "version": "18.16.0"
  }
 },
 "nbformat": 4,
 "nbformat_minor": 5
}
